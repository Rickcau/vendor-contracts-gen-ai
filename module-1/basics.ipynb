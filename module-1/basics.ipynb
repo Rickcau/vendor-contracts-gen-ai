{
 "cells": [
  {
   "cell_type": "markdown",
   "metadata": {},
   "source": [
    "## Setup\n",
    "Before you begin, please follow the instructions in the `README` to create an environment and install dependencies."
   ]
  },
  {
   "cell_type": "code",
   "execution_count": null,
   "metadata": {},
   "outputs": [],
   "source": [
    "%%capture --no-stderr\n",
    "%pip install --quiet -U langchain_openai langchain_core langchain_community"
   ]
  },
  {
   "cell_type": "markdown",
   "metadata": {},
   "source": [
    "Let's make sure we can load the details from the .env file and run a quick test using the LLM."
   ]
  },
  {
   "cell_type": "code",
   "execution_count": 2,
   "metadata": {},
   "outputs": [
    {
     "name": "stdout",
     "output_type": "stream",
     "text": [
      "Loaded .env from c:\\Users\\rickcau\\source\\repos\\vendor-contracts-gen-ai\\.env\n",
      "API Key: 8PVz****************************Isv1\n"
     ]
    }
   ],
   "source": [
    "import os, getpass\n",
    "from langchain_openai import AzureChatOpenAI\n",
    "\n",
    "from dotenv import load_dotenv\n",
    "import os, getpass\n",
    "from pathlib import Path\n",
    "\n",
    "def _set_env(var: str):\n",
    "    if not os.environ.get(var):\n",
    "        os.environ[var] = getpass.getpass(f\"{var}: \")\n",
    "\n",
    "# Get root directory path\n",
    "root_dir = Path().absolute().parent\n",
    "env_path = root_dir / '.env'\n",
    "\n",
    "# Load .env from root\n",
    "load_dotenv(dotenv_path=env_path)\n",
    "print(f\"Loaded .env from {env_path}\")\n",
    "# Access variables\n",
    "api_key = os.getenv('AZURE_OPENAI_API_KEY')\n",
    "\n",
    "print(f\"API Key: {  api_key[:4] + '*' * 28 + api_key[-4:] }\")"
   ]
  },
  {
   "cell_type": "markdown",
   "metadata": {},
   "source": [
    "Let's test the LLM endpoint now."
   ]
  },
  {
   "cell_type": "code",
   "execution_count": 3,
   "metadata": {},
   "outputs": [
    {
     "name": "stdout",
     "output_type": "stream",
     "text": [
      "content=\"The sky appears blue primarily due to a phenomenon called Rayleigh scattering. As sunlight enters Earth's atmosphere, it collides with molecules and small particles. Sunlight is made up of different colors, each with its own wavelength. Blue light has a shorter wavelength compared to other visible colors, such as red.\\n\\nBecause blue light waves are shorter, they are scattered in all directions by the gases and particles in the atmosphere more effectively than other colors. This scattering causes the sky to look blue when we observe it from the ground during the day. During sunrise and sunset, the sky can appear red or orange because the sun is lower in the sky, causing the light to pass through more of the atmosphere. This increases scattering of shorter wavelengths, allowing the longer wavelengths (reds and oranges) to become more prominent.\" additional_kwargs={'refusal': None} response_metadata={'token_usage': {'completion_tokens': 159, 'prompt_tokens': 15, 'total_tokens': 174, 'completion_tokens_details': None, 'prompt_tokens_details': None}, 'model_name': 'gpt-4o-2024-08-06', 'system_fingerprint': 'fp_04751d0b65', 'prompt_filter_results': [{'prompt_index': 0, 'content_filter_results': {'hate': {'filtered': False, 'severity': 'safe'}, 'jailbreak': {'filtered': False, 'detected': False}, 'self_harm': {'filtered': False, 'severity': 'safe'}, 'sexual': {'filtered': False, 'severity': 'safe'}, 'violence': {'filtered': False, 'severity': 'safe'}}}], 'finish_reason': 'stop', 'logprobs': None, 'content_filter_results': {'hate': {'filtered': False, 'severity': 'safe'}, 'self_harm': {'filtered': False, 'severity': 'safe'}, 'sexual': {'filtered': False, 'severity': 'safe'}, 'violence': {'filtered': False, 'severity': 'safe'}}} id='run-0784e69e-5ffb-45d7-bdc6-572d5938a0a9-0' usage_metadata={'input_tokens': 15, 'output_tokens': 159, 'total_tokens': 174, 'input_token_details': {}, 'output_token_details': {}}\n"
     ]
    },
    {
     "data": {
      "text/plain": [
       "langchain_core.messages.ai.AIMessage"
      ]
     },
     "execution_count": 3,
     "metadata": {},
     "output_type": "execute_result"
    }
   ],
   "source": [
    "from langchain_core.messages import HumanMessage, SystemMessage\n",
    "# Lets run a quick test\n",
    "\n",
    "# Create a message\n",
    "msg = HumanMessage(content=\"Why is the Sky Blue?\", name=\"Rick\")\n",
    "# messages = [HumanMessage(content=f\"Why is the Sky blue?\",name=\"Rick\"))\n",
    "messages = [msg]\n",
    "\n",
    "llm = AzureChatOpenAI(model_name=\"gpt-4o\")\n",
    "result= llm.invoke(messages)\n",
    "# response = chat_model.chat(\"Hello, how can I assist you today?\")\n",
    "print(result)\n",
    "type(result)"
   ]
  }
 ],
 "metadata": {
  "kernelspec": {
   "display_name": "vendor-contracts-env",
   "language": "python",
   "name": "python3"
  },
  "language_info": {
   "codemirror_mode": {
    "name": "ipython",
    "version": 3
   },
   "file_extension": ".py",
   "mimetype": "text/x-python",
   "name": "python",
   "nbconvert_exporter": "python",
   "pygments_lexer": "ipython3",
   "version": "3.12.8"
  }
 },
 "nbformat": 4,
 "nbformat_minor": 2
}
