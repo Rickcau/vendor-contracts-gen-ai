{
 "cells": [
  {
   "cell_type": "markdown",
   "metadata": {},
   "source": [
    "test"
   ]
  },
  {
   "cell_type": "code",
   "execution_count": 5,
   "metadata": {},
   "outputs": [
    {
     "name": "stdout",
     "output_type": "stream",
     "text": [
      "Loaded .env from c:\\Users\\rickcau\\source\\repos\\vendor-contracts-gen-ai\\.env\n",
      "storage_account_name: stgclarivatecw\n",
      "storage acct Key: ayze*****NQ==\n",
      "Successfully accessed container. Found 1 blobs:\n",
      "- VendorAgreement-Fabrikam-5004432.pdf\n"
     ]
    },
    {
     "data": {
      "text/plain": [
       "True"
      ]
     },
     "execution_count": 5,
     "metadata": {},
     "output_type": "execute_result"
    }
   ],
   "source": [
    "from azure.core.credentials import AzureKeyCredential\n",
    "from azure.ai.documentintelligence import DocumentIntelligenceClient\n",
    "from azure.storage.blob import BlobServiceClient, generate_blob_sas, BlobSasPermissions\n",
    "from datetime import datetime, timedelta\n",
    "import os\n",
    "from dotenv import load_dotenv\n",
    "from pathlib import Path\n",
    "\n",
    "# Get root directory path\n",
    "root_dir = Path().absolute().parent\n",
    "env_path = root_dir / '.env'\n",
    "\n",
    "# Load .env from root\n",
    "load_dotenv(dotenv_path=env_path)\n",
    "print(f\"Loaded .env from {env_path}\")\n",
    "# Access variables\n",
    "# Azure Storage settings\n",
    "\n",
    "storage_account_name = os.getenv(\"STORAGE_ACCOUNT_NAME\")  \n",
    "storage_account_key = os.getenv(\"STORAGE_ACCOUNT_KEY\")  # Add your storage account key here\n",
    "container_name = \"source\"\n",
    "\n",
    "print(f\"storage_account_name: {  storage_account_name }\")\n",
    "print(f\"storage acct Key: {  storage_account_key[:4] + '*' * 5 + storage_account_key[-4:] }\")\n",
    "\n",
    "def test_storage_access():\n",
    "    try:\n",
    "        connection_string = f\"DefaultEndpointsProtocol=https;AccountName={storage_account_name};AccountKey={storage_account_key};EndpointSuffix=core.windows.net\"\n",
    "        blob_service_client = BlobServiceClient.from_connection_string(connection_string)\n",
    "        container_client = blob_service_client.get_container_client(container_name)\n",
    "        blobs = list(container_client.list_blobs())\n",
    "        print(f\"Successfully accessed container. Found {len(blobs)} blobs:\")\n",
    "        for blob in blobs:\n",
    "            print(f\"- {blob.name}\")\n",
    "        return True\n",
    "    except Exception as e:\n",
    "        print(f\"Error accessing storage: {str(e)}\")\n",
    "        return False\n",
    "\n",
    "# Test storage access\n",
    "test_storage_access()"
   ]
  }
 ],
 "metadata": {
  "kernelspec": {
   "display_name": "vendor-contracts-env",
   "language": "python",
   "name": "python3"
  },
  "language_info": {
   "codemirror_mode": {
    "name": "ipython",
    "version": 3
   },
   "file_extension": ".py",
   "mimetype": "text/x-python",
   "name": "python",
   "nbconvert_exporter": "python",
   "pygments_lexer": "ipython3",
   "version": "3.12.8"
  }
 },
 "nbformat": 4,
 "nbformat_minor": 2
}
