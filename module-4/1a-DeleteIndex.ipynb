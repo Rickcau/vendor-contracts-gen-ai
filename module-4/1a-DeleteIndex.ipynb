{
 "cells": [
  {
   "cell_type": "markdown",
   "metadata": {},
   "source": [
    "Example of code that can delete the index...  This may come in handle is you are fine-tuning the index."
   ]
  },
  {
   "cell_type": "code",
   "execution_count": 5,
   "metadata": {},
   "outputs": [
    {
     "name": "stderr",
     "output_type": "stream",
     "text": [
      "INFO:__main__:Initializing SearchIndexClient with endpoint: https://rdc-ai-search.search.windows.net\n",
      "INFO:__main__:Attempting to delete index 'rdc-contacts-v1'...\n",
      "INFO:azure.core.pipeline.policies.http_logging_policy:Request URL: 'https://rdc-ai-search.search.windows.net/indexes('rdc-contacts-v1')?api-version=REDACTED'\n",
      "Request method: 'DELETE'\n",
      "Request headers:\n",
      "    'api-key': 'REDACTED'\n",
      "    'Accept': 'application/json;odata.metadata=minimal'\n",
      "    'x-ms-client-request-id': '3218cc35-b83f-11ef-ba2c-1091d1f8d990'\n",
      "    'User-Agent': 'azsdk-python-search-documents/11.5.2 Python/3.12.8 (Windows-11-10.0.26100-SP0)'\n",
      "No body was attached to the request\n",
      "INFO:azure.core.pipeline.policies.http_logging_policy:Response status: 204\n",
      "Response headers:\n",
      "    'Server': 'Microsoft-IIS/10.0'\n",
      "    'Strict-Transport-Security': 'REDACTED'\n",
      "    'Preference-Applied': 'REDACTED'\n",
      "    'request-id': '3218cc35-b83f-11ef-ba2c-1091d1f8d990'\n",
      "    'elapsed-time': 'REDACTED'\n",
      "    'Date': 'Thu, 12 Dec 2024 04:11:44 GMT'\n",
      "INFO:__main__:Successfully deleted index 'rdc-contacts-v1'\n"
     ]
    }
   ],
   "source": [
    "from azure.core.credentials import AzureKeyCredential\n",
    "from azure.search.documents.indexes import SearchIndexClient\n",
    "import logging\n",
    "import os\n",
    "from dotenv import load_dotenv\n",
    "from pathlib import Path\n",
    "\n",
    "# Set up logging\n",
    "logging.basicConfig(level=logging.INFO)\n",
    "logger = logging.getLogger(__name__)\n",
    "\n",
    "ai_search_endpoint = os.environ[\"AZURE_SEARCH_ENDPOINT\"]\n",
    "ai_search_key = os.environ[\"AZURE_SEARCH_KEY\"]\n",
    "ai_search_admin_key = os.environ[\"AZURE_SEARCH_ADMIN_KEY\"]\n",
    "ai_search_index = \"rdc-contacts-v1\"\n",
    "\n",
    "def delete_search_index(endpoint: str, admin_key: str, index_name: str) -> None:\n",
    "    \"\"\"\n",
    "    Deletes an Azure Cognitive Search index.\n",
    "    \n",
    "    Args:\n",
    "        endpoint (str): Azure Cognitive Search endpoint URL\n",
    "        admin_key (str): Admin API key for Azure Cognitive Search\n",
    "        index_name (str): Name of the index to delete\n",
    "    \"\"\"\n",
    "    try:\n",
    "        # Initialize the search index client\n",
    "        logger.info(f\"Initializing SearchIndexClient with endpoint: {endpoint}\")\n",
    "        search_index_client = SearchIndexClient(\n",
    "            endpoint=endpoint,\n",
    "            credential=AzureKeyCredential(admin_key)\n",
    "        )\n",
    "\n",
    "        # Delete the index\n",
    "        logger.info(f\"Attempting to delete index '{index_name}'...\")\n",
    "        search_index_client.delete_index(index_name)\n",
    "        logger.info(f\"Successfully deleted index '{index_name}'\")\n",
    "\n",
    "    except Exception as e:\n",
    "        logger.error(f\"Error deleting index: {str(e)}\")\n",
    "        raise\n",
    "\n",
    "if __name__ == \"__main__\":\n",
    "    try:\n",
    "        delete_search_index(\n",
    "            endpoint=ai_search_endpoint,\n",
    "            admin_key=ai_search_admin_key,\n",
    "            index_name=ai_search_index\n",
    "        )\n",
    "    except Exception as e:\n",
    "        logger.error(f\"Failed to delete index: {str(e)}\")"
   ]
  }
 ],
 "metadata": {
  "kernelspec": {
   "display_name": "vendor-contracts-env",
   "language": "python",
   "name": "python3"
  },
  "language_info": {
   "codemirror_mode": {
    "name": "ipython",
    "version": 3
   },
   "file_extension": ".py",
   "mimetype": "text/x-python",
   "name": "python",
   "nbconvert_exporter": "python",
   "pygments_lexer": "ipython3",
   "version": "3.12.8"
  }
 },
 "nbformat": 4,
 "nbformat_minor": 2
}
